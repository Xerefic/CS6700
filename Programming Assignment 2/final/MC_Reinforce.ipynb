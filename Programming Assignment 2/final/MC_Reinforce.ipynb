{
 "cells": [
  {
   "cell_type": "markdown",
   "metadata": {},
   "source": [
    "# CS6700: Reinforcement Learning\n",
    "## Programming Assignment 1\n",
    "\n",
    "Submitted by:\n",
    "- Archish S (ME20B032)\n",
    "- Vinayak Gupta (EE20B152)"
   ]
  },
  {
   "cell_type": "markdown",
   "metadata": {},
   "source": [
    "# Monte Carlo REINFORCE\n",
    "\n",
    "## Imports"
   ]
  },
  {
   "cell_type": "code",
   "execution_count": 1,
   "metadata": {},
   "outputs": [],
   "source": [
    "import random\n",
    "from dataclasses import dataclass\n",
    "from collections import deque\n",
    "from itertools import count\n",
    "\n",
    "import gym\n",
    "import numpy as np\n",
    "\n",
    "import torch\n",
    "import torch.nn as nn\n",
    "import torch.nn.functional as F\n",
    "import torch.optim as optim\n",
    "from torch.distributions import Categorical\n",
    "\n",
    "import matplotlib.pyplot as plt\n",
    "# plt.rcParams.update({\n",
    "#     \"text.usetex\": True,\n",
    "#     \"font.family\": \"serif\",\n",
    "#     \"font.serif\": [\"Computer Modern Roman\"],\n",
    "#     \"font.size\": 10\n",
    "# })\n",
    "%config InlineBackend.figure_format = 'retina'\n",
    "\n",
    "import tqdm\n",
    "from IPython.display import clear_output\n",
    "import warnings\n",
    "warnings.filterwarnings('ignore')\n",
    "\n",
    "def set_seed(seed):\n",
    "    random.seed(seed)\n",
    "    np.random.seed(seed)\n",
    "    torch.manual_seed(seed)"
   ]
  },
  {
   "cell_type": "code",
   "execution_count": 2,
   "metadata": {},
   "outputs": [],
   "source": [
    "@dataclass\n",
    "class Args:\n",
    "    device = torch.device(\"cuda\" if torch.cuda.is_available() else \"cpu\")\n",
    "    seed: int = 32 + 152\n",
    "\n",
    "    # env: str = 'CartPole'\n",
    "    env: str = 'Acrobot'\n",
    "    algorithm: str = 'MCReinforce'\n",
    "    type: str = ''\n",
    "\n",
    "    gamma: float = 0.99\n",
    "    epsilon_max: float = 1e-1\n",
    "    epsilon_min: float = 1e-4\n",
    "    lr: float = 1e-3\n",
    "    num_runs: int = 5\n",
    "    num_episodes: int = 10000\n",
    "    max_steps: int = 1000\n",
    "    threshold: int = 195\n",
    "\n",
    "    batch_size: int = 32\n",
    "    hidden_size: int = 64"
   ]
  },
  {
   "cell_type": "markdown",
   "metadata": {},
   "source": [
    "## Networks"
   ]
  },
  {
   "cell_type": "code",
   "execution_count": 3,
   "metadata": {},
   "outputs": [],
   "source": [
    "class PolicyNetwork(nn.Module):\n",
    "\n",
    "    def __init__(self, state_size, action_size, hidden_size, args):\n",
    "        super(PolicyNetwork, self).__init__()\n",
    "        self.args = args\n",
    "        \n",
    "        self.fc = nn.Sequential(\n",
    "            nn.Linear(state_size, hidden_size),\n",
    "            nn.ReLU(),\n",
    "            nn.Linear(hidden_size, action_size)\n",
    "        )\n",
    "\n",
    "    def init_weights(self):\n",
    "        for m in self.modules():\n",
    "            if isinstance(m, nn.Linear):\n",
    "                nn.init.xavier_normal_(m.weight)\n",
    "                nn.init.constant_(m.bias, 0)\n",
    "\n",
    "    def forward(self, x):\n",
    "        return self.fc(x)\n",
    "    \n",
    "    def select_action(self, state):\n",
    "        with torch.no_grad():\n",
    "            action = self.forward(state)\n",
    "            action = F.softmax(action, dim=-1)\n",
    "            m = Categorical(action)\n",
    "            action = m.sample()\n",
    "        return action.item(), m.log_prob(action)"
   ]
  },
  {
   "cell_type": "code",
   "execution_count": 4,
   "metadata": {},
   "outputs": [],
   "source": [
    "class ValueNetwork(nn.Module):\n",
    "\n",
    "    def __init__(self, state_size, hidden_size, args):\n",
    "        super(ValueNetwork, self).__init__()\n",
    "        self.args = args\n",
    "        \n",
    "        self.fc = nn.Sequential(\n",
    "            nn.Linear(state_size, hidden_size),\n",
    "            nn.ReLU(),\n",
    "            nn.Linear(hidden_size, 1)\n",
    "        )\n",
    "\n",
    "    def init_weights(self):\n",
    "        for m in self.modules():\n",
    "            if isinstance(m, nn.Linear):\n",
    "                nn.init.xavier_normal_(m.weight)\n",
    "                nn.init.constant_(m.bias, 0)\n",
    "\n",
    "\n",
    "    def forward(self, x):\n",
    "        return self.fc(x)"
   ]
  },
  {
   "cell_type": "code",
   "execution_count": 5,
   "metadata": {},
   "outputs": [],
   "source": [
    "class Agent:\n",
    "    def __init__(self, args, type):\n",
    "        self.args = args\n",
    "        self.args.type = type\n",
    "        self.env = gym.make(args.env + '-v1')\n",
    "        self.state_size = self.env.observation_space.shape[0]\n",
    "        self.action_size = self.env.action_space.n\n",
    "\n",
    "        self.policy = PolicyNetwork(self.state_size, self.action_size, args.hidden_size, self.args).to(self.args.device)\n",
    "        self.init_policy_weights = self.policy.state_dict().copy()\n",
    "        self.value = ValueNetwork(self.state_size, args.hidden_size, self.args).to(self.args.device)\n",
    "        self.init_value_weights = self.value.state_dict().copy()\n",
    "\n",
    "        self.optimizer_policy = optim.Adam(self.policy.parameters(), lr=self.args.lr)\n",
    "        self.optimizer_value = optim.Adam(self.value.parameters(), lr=self.args.lr)\n",
    "\n",
    "    def learn(self, batch):\n",
    "        batch_state, batch_action, batch_reward, batch_log_prob = zip(*batch)\n",
    "        batch_state = torch.stack(batch_state, dim=0).float().to(self.args.device)\n",
    "        batch_log_prob = torch.tensor(batch_log_prob, dtype=torch.float, requires_grad=True).to(self.args.device)\n",
    "\n",
    "        G = []\n",
    "        total = 0\n",
    "        for r in batch_reward[::-1]:\n",
    "            total = r + self.args.gamma * total\n",
    "            G.insert(0, total)\n",
    "        G = torch.tensor(G, dtype=torch.float32).to(self.args.device)\n",
    "        G = (G - G.mean()) / (G.std() + 1e-8)\n",
    "        G = G.unsqueeze(1)\n",
    "\n",
    "        self.value.train()\n",
    "        if self.args.type == 'wbaseline':\n",
    "            value = self.value(batch_state)\n",
    "            loss_value = F.mse_loss(value, G)\n",
    "            self.optimizer_value.zero_grad()\n",
    "            loss_value.backward()\n",
    "            self.optimizer_value.step()\n",
    "\n",
    "            deltas = G - value.detach()\n",
    "            loss_policy = (-batch_log_prob * deltas).sum()\n",
    "        elif self.args.type == 'wobaseline':\n",
    "            deltas = G\n",
    "            loss_policy = (-batch_log_prob * deltas).sum()\n",
    "        \n",
    "        self.value.eval()\n",
    "        self.optimizer_policy.zero_grad()\n",
    "        loss_policy.backward()\n",
    "        self.optimizer_policy.step()\n",
    "\n",
    "    def train(self):\n",
    "        run_rewards = []    \n",
    "        for run in tqdm.trange(self.args.num_runs, desc='Runs'):\n",
    "            self.policy.init_weights()\n",
    "            self.value.init_weights()\n",
    "\n",
    "            self.policy.train()\n",
    "            if self.args.type == 'wbaseline':\n",
    "                self.value.train()\n",
    "            elif self.args.type == 'wobaseline':\n",
    "                self.value.eval()\n",
    "            else:\n",
    "                raise NotImplementedError(f'Unknown type: {self.args.type}')\n",
    "\n",
    "            episode_rewards = []\n",
    "            for episode in tqdm.trange(self.args.num_episodes, desc='Episodes', leave=False):\n",
    "                state = self.env.reset()\n",
    "                total_reward = 0\n",
    "                trajectory = []\n",
    "\n",
    "                for t in count():\n",
    "                    state = torch.tensor(state, dtype=torch.float32).to(self.args.device).unsqueeze(0)\n",
    "                    action, log_prob = self.policy.select_action(state)\n",
    "                    next_state, reward, done, _ = self.env.step(action)\n",
    "\n",
    "                    total_reward += reward\n",
    "                    trajectory.append((state.flatten(), action, reward, log_prob.flatten()))\n",
    "\n",
    "                    if done or t > self.args.max_steps:\n",
    "                        break        \n",
    "                    state = next_state\n",
    "\n",
    "                episode_rewards.append(total_reward)\n",
    "\n",
    "                if np.mean(episode_rewards) > self.args.threshold:\n",
    "                    break\n",
    "                self.learn(trajectory)\n",
    "\n",
    "            run_rewards.append(episode_rewards)\n",
    "        return run_rewards\n",
    "            "
   ]
  },
  {
   "cell_type": "markdown",
   "metadata": {},
   "source": [
    "## Simulation"
   ]
  },
  {
   "cell_type": "code",
   "execution_count": 6,
   "metadata": {},
   "outputs": [
    {
     "name": "stderr",
     "output_type": "stream",
     "text": [
      "Runs:   0%|          | 0/5 [00:00<?, ?it/s]"
     ]
    }
   ],
   "source": [
    "# Cartpole Type 1\n",
    "\n",
    "args = Args()\n",
    "set_seed(args.seed)\n",
    "args.env = 'CartPole'\n",
    "agent = Agent(args, 'wobaseline')\n",
    "run_rewards_type1 = agent.train()\n",
    "np.save(f'result/cartpole_mcreinforce_wobaseline.npy', np.array(run_rewards_type1))"
   ]
  },
  {
   "cell_type": "code",
   "execution_count": null,
   "metadata": {},
   "outputs": [],
   "source": [
    "# Cartpole Type 2\n",
    "\n",
    "args = Args()\n",
    "set_seed(args.seed)\n",
    "args.env = 'CartPole'\n",
    "agent = Agent(args, 'wbaseline')\n",
    "run_rewards_type2 = agent.train()\n",
    "np.save(f'result/cartpole_mcreinforce_wbaseline.npy', np.array(run_rewards_type2))"
   ]
  },
  {
   "cell_type": "code",
   "execution_count": null,
   "metadata": {},
   "outputs": [],
   "source": [
    "window_size = 10\n",
    "moving_avg_type1 = np.convolve(np.mean(run_rewards_type1, axis=0), np.ones(window_size), 'valid') / window_size\n",
    "moving_std_type1 = np.convolve(np.std(run_rewards_type1, axis=0), np.ones(window_size), 'valid') / window_size\n",
    "\n",
    "plt.plot(moving_avg_type1, label='Type 1', color='r')\n",
    "plt.fill_between(range(len(moving_avg_type1)), moving_avg_type1 - moving_std_type1, moving_avg_type1 + moving_std_type1, alpha=0.1, color='r')\n",
    "\n",
    "moving_avg_type2 = np.convolve(np.mean(run_rewards_type2, axis=0), np.ones(window_size), 'valid') / window_size\n",
    "moving_std_type2 = np.convolve(np.std(run_rewards_type2, axis=0), np.ones(window_size), 'valid') / window_size\n",
    "plt.plot(moving_avg_type2, label='Type 2', color='b')\n",
    "plt.fill_between(range(len(moving_avg_type2)), moving_avg_type2 - moving_std_type2, moving_avg_type2 + moving_std_type2, alpha=0.1, color='b')\n",
    "\n",
    "plt.xlabel('Episodes')\n",
    "plt.ylabel('Reward')\n",
    "plt.legend()"
   ]
  },
  {
   "cell_type": "code",
   "execution_count": null,
   "metadata": {},
   "outputs": [
    {
     "name": "stderr",
     "output_type": "stream",
     "text": []
    }
   ],
   "source": [
    "# Acrobot Type 1\n",
    "\n",
    "args = Args()\n",
    "set_seed(args.seed)\n",
    "args.env = 'Acrobot'\n",
    "agent = Agent(args, 'wobaseline')\n",
    "run_rewards_type1 = agent.train()\n",
    "np.save(f'result/acrobot_mcreinforce_wobaseline.npy', np.array(run_rewards_type1))"
   ]
  },
  {
   "cell_type": "code",
   "execution_count": null,
   "metadata": {},
   "outputs": [],
   "source": [
    "# Acrobot Type 2\n",
    "\n",
    "args = Args()\n",
    "set_seed(args.seed)\n",
    "args.env = 'Acrobot'\n",
    "agent = Agent(args, 'wbaseline')\n",
    "run_rewards_type2 = agent.train()\n",
    "np.save(f'result/actobot_mcreinforce_wbaseline.npy', np.array(run_rewards_type2))"
   ]
  },
  {
   "cell_type": "code",
   "execution_count": null,
   "metadata": {},
   "outputs": [],
   "source": [
    "window_size = 10\n",
    "moving_avg_type1 = np.convolve(np.mean(run_rewards_type1, axis=0), np.ones(window_size), 'valid') / window_size\n",
    "moving_std_type1 = np.convolve(np.std(run_rewards_type1, axis=0), np.ones(window_size), 'valid') / window_size\n",
    "\n",
    "plt.plot(moving_avg_type1, label='Type 1', color='r')\n",
    "plt.fill_between(range(len(moving_avg_type1)), moving_avg_type1 - moving_std_type1, moving_avg_type1 + moving_std_type1, alpha=0.1, color='r')\n",
    "\n",
    "moving_avg_type2 = np.convolve(np.mean(run_rewards_type2, axis=0), np.ones(window_size), 'valid') / window_size\n",
    "moving_std_type2 = np.convolve(np.std(run_rewards_type2, axis=0), np.ones(window_size), 'valid') / window_size\n",
    "plt.plot(moving_avg_type2, label='Type 2', color='b')\n",
    "plt.fill_between(range(len(moving_avg_type2)), moving_avg_type2 - moving_std_type2, moving_avg_type2 + moving_std_type2, alpha=0.1, color='b')\n",
    "\n",
    "plt.xlabel('Episodes')\n",
    "plt.ylabel('Reward')\n",
    "plt.legend()"
   ]
  },
  {
   "cell_type": "code",
   "execution_count": null,
   "metadata": {},
   "outputs": [],
   "source": []
  },
  {
   "cell_type": "code",
   "execution_count": null,
   "metadata": {},
   "outputs": [],
   "source": []
  }
 ],
 "metadata": {
  "kernelspec": {
   "display_name": "gym",
   "language": "python",
   "name": "python3"
  },
  "language_info": {
   "codemirror_mode": {
    "name": "ipython",
    "version": 3
   },
   "file_extension": ".py",
   "mimetype": "text/x-python",
   "name": "python",
   "nbconvert_exporter": "python",
   "pygments_lexer": "ipython3",
   "version": "3.12.2"
  }
 },
 "nbformat": 4,
 "nbformat_minor": 2
}
